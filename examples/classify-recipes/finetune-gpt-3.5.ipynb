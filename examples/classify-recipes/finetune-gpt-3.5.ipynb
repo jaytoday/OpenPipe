{
 "cells": [
  {
   "cell_type": "code",
   "execution_count": 1,
   "metadata": {},
   "outputs": [
    {
     "name": "stdout",
     "output_type": "stream",
     "text": [
      "Sample training data:\n",
      "{'messages': [{'content': 'Your goal is to classify a recipe along several '\n",
      "                          'dimensions.Pay attention to the instructions.',\n",
      "               'role': 'system'},\n",
      "              {'content': 'Homemade Salad Dressing\\n'\n",
      "                          '\\n'\n",
      "                          'Ingredients:\\n'\n",
      "                          \"- 1 pt. Hellmann's mayonnaise\\n\"\n",
      "                          '- 1 pt. buttermilk\\n'\n",
      "                          '- 1 tsp. Accent\\n'\n",
      "                          '- 2 Tbsp. dry parsley\\n'\n",
      "                          '- 2 pkg. low-calorie Italian salad dressing mix\\n'\n",
      "                          '- 1 can jalapeno peppers or 4 oz. Jimenez green '\n",
      "                          'sauce\\n'\n",
      "                          '\\n'\n",
      "                          'Directions:\\n'\n",
      "                          '- Blend well in blender; store in refrigerator.\\n'\n",
      "                          '- For dip, decrease liquid.',\n",
      "               'role': 'user'},\n",
      "              {'content': '{\\n'\n",
      "                          '\"has_non_fish_meat\": false,\\n'\n",
      "                          '\"requires_oven\": false,\\n'\n",
      "                          '\"requires_stove\": false,\\n'\n",
      "                          '\"cook_time_over_30_mins\": false,\\n'\n",
      "                          '\"main_dish\": false\\n'\n",
      "                          '}',\n",
      "               'role': 'assistant'}]}\n"
     ]
    }
   ],
   "source": [
    "import pandas as pd\n",
    "from pprint import pprint\n",
    "import json\n",
    "\n",
    "df = pd.read_json(\"data/train.jsonl\", lines=True)\n",
    "\n",
    "training_data = []\n",
    "for row in df.itertuples():\n",
    "    input = json.loads(row.instruction)\n",
    "    output = json.loads(row.output)\n",
    "\n",
    "    output[\"content\"] = output[\"function_call\"][\"arguments\"]\n",
    "    del output[\"function_call\"]\n",
    "\n",
    "    sample = {\"messages\": input.copy() + [output]}\n",
    "    training_data.append(sample)\n",
    "\n",
    "# save the training data to data/train-gpt3.5.jsonl\n",
    "\n",
    "with open(\"data/train-gpt3.5.jsonl\", \"w\") as f:\n",
    "    for sample in training_data:\n",
    "        f.write(json.dumps(sample) + \"\\n\")\n",
    "\n",
    "print(f\"Sample training data:\")\n",
    "pprint(training_data[0])\n"
   ]
  },
  {
   "cell_type": "code",
   "execution_count": 28,
   "metadata": {},
   "outputs": [
    {
     "data": {
      "text/plain": [
       "<File file id=file-faAdQ1KPxZH79ThW4Dbu4z1y at 0x7fa55db5c6d0> JSON: {\n",
       "  \"object\": \"file\",\n",
       "  \"id\": \"file-faAdQ1KPxZH79ThW4Dbu4z1y\",\n",
       "  \"purpose\": \"fine-tune\",\n",
       "  \"filename\": \"recipe-classification\",\n",
       "  \"bytes\": 4210831,\n",
       "  \"created_at\": 1693000959,\n",
       "  \"status\": \"uploaded\",\n",
       "  \"status_details\": null\n",
       "}"
      ]
     },
     "execution_count": 28,
     "metadata": {},
     "output_type": "execute_result"
    }
   ],
   "source": [
    "import os\n",
    "import openai\n",
    "\n",
    "import dotenv\n",
    "\n",
    "dotenv.load_dotenv()\n",
    "\n",
    "openai.api_key = os.getenv(\"OPENAI_API_KEY\")\n",
    "\n",
    "openai.File.create(\n",
    "    file=open(\"data/train-gpt3.5.jsonl\", \"rb\"),\n",
    "    purpose=\"fine-tune\",\n",
    "    user_provided_filename=\"recipe-classification\",\n",
    ")\n"
   ]
  },
  {
   "cell_type": "code",
   "execution_count": 40,
   "metadata": {},
   "outputs": [
    {
     "data": {
      "text/plain": [
       "<OpenAIObject list at 0x7fa55dbf6930> JSON: {\n",
       "  \"object\": \"list\",\n",
       "  \"data\": [\n",
       "    {\n",
       "      \"object\": \"file\",\n",
       "      \"id\": \"file-faAdQ1KPxZH79ThW4Dbu4z1y\",\n",
       "      \"purpose\": \"fine-tune\",\n",
       "      \"filename\": \"recipe-classification\",\n",
       "      \"bytes\": 4210831,\n",
       "      \"created_at\": 1693000959,\n",
       "      \"status\": \"processed\",\n",
       "      \"status_details\": null\n",
       "    }\n",
       "  ]\n",
       "}"
      ]
     },
     "execution_count": 40,
     "metadata": {},
     "output_type": "execute_result"
    }
   ],
   "source": [
    "openai.File.list()\n"
   ]
  },
  {
   "cell_type": "code",
   "execution_count": 42,
   "metadata": {},
   "outputs": [
    {
     "data": {
      "text/plain": [
       "<FineTuningJob fine_tuning.job id=ftjob-EjjLxmj9P8apwPRk5s2NPSeB at 0x7fa55ddc4360> JSON: {\n",
       "  \"object\": \"fine_tuning.job\",\n",
       "  \"id\": \"ftjob-EjjLxmj9P8apwPRk5s2NPSeB\",\n",
       "  \"model\": \"gpt-3.5-turbo-0613\",\n",
       "  \"created_at\": 1693001190,\n",
       "  \"finished_at\": null,\n",
       "  \"fine_tuned_model\": null,\n",
       "  \"organization_id\": \"org-jRz4nVPMoeGHWL5nVR3Mb0kp\",\n",
       "  \"result_files\": [],\n",
       "  \"status\": \"created\",\n",
       "  \"validation_file\": null,\n",
       "  \"training_file\": \"file-faAdQ1KPxZH79ThW4Dbu4z1y\",\n",
       "  \"hyperparameters\": {\n",
       "    \"n_epochs\": 3\n",
       "  },\n",
       "  \"trained_tokens\": null\n",
       "}"
      ]
     },
     "execution_count": 42,
     "metadata": {},
     "output_type": "execute_result"
    }
   ],
   "source": [
    "openai.FineTuningJob.create(\n",
    "    training_file=\"file-faAdQ1KPxZH79ThW4Dbu4z1y\", model=\"gpt-3.5-turbo\"\n",
    ")\n"
   ]
  }
 ],
 "metadata": {
  "kernelspec": {
   "display_name": "Python 3",
   "language": "python",
   "name": "python3"
  },
  "language_info": {
   "codemirror_mode": {
    "name": "ipython",
    "version": 3
   },
   "file_extension": ".py",
   "mimetype": "text/x-python",
   "name": "python",
   "nbconvert_exporter": "python",
   "pygments_lexer": "ipython3",
   "version": "3.10.6"
  },
  "orig_nbformat": 4
 },
 "nbformat": 4,
 "nbformat_minor": 2
}
